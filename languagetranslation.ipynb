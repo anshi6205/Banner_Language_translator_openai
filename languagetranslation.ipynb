{
 "cells": [
  {
   "cell_type": "code",
   "execution_count": 33,
   "id": "4f213c0f",
   "metadata": {},
   "outputs": [
    {
     "name": "stdout",
     "output_type": "stream",
     "text": [
      "SPECIAL OFFER\n",
      "\n",
      "Sale\n",
      "\n",
      "NEW DEALS EVERY HOUR\n",
      "\n"
     ]
    }
   ],
   "source": [
    "import cv2 \n",
    "\n",
    "import openai \n",
    "\n",
    "import pytesseract \n",
    "\n",
    " \n",
    "\n",
    "path_to_tesseract = r'C:\\Program Files (x86)\\Tesseract-OCR\\tesseract.exe' \n",
    "\n",
    "image_path = r'C:/Users/msgupta9/Downloads/ssss.jpg' \n",
    "\n",
    "api_key = \"\"\n",
    "\n",
    " \n",
    "\n",
    "img = cv2.imread(image_path) \n",
    "\n",
    "openai.api_key = api_key \n",
    "\n",
    "img_gray = cv2.cvtColor(img, cv2.COLOR_BGR2GRAY) \n",
    "\n",
    "img_thresh = cv2.threshold(img_gray, 0, 255, cv2.THRESH_BINARY + cv2.THRESH_OTSU)[1] \n",
    "\n",
    "pytesseract.pytesseract.tesseract_cmd = path_to_tesseract \n",
    "\n",
    "extracted_text = pytesseract.image_to_string(img_thresh) \n",
    "\n",
    "print(extracted_text[:]) \n",
    "\n",
    "\n"
   ]
  },
  {
   "cell_type": "code",
   "execution_count": 34,
   "id": "02011c9b",
   "metadata": {},
   "outputs": [
    {
     "name": "stdout",
     "output_type": "stream",
     "text": [
      "Chinese Translation using GPT-4: 特别优惠\n",
      "\n",
      "销售\n",
      "\n",
      "每小时新优惠\n"
     ]
    }
   ],
   "source": [
    "\n",
    "model_engine = \"gpt-4\" \n",
    "\n",
    "message=[{\"role\": \"user\", \"content\": 'Translate these English words to Chinese'}, \n",
    "\n",
    "        {\"role\": \"assistant\", \"content\": f\"{extracted_text}\"} \n",
    "\n",
    "    ] \n",
    " \n",
    "response = openai.ChatCompletion.create( \n",
    "\n",
    "    model=model_engine, \n",
    "\n",
    "    messages = message, \n",
    "\n",
    "    max_tokens=1024, \n",
    "\n",
    "    n=1, \n",
    "\n",
    "    stop=None, \n",
    "\n",
    "    temperature=0.2, \n",
    "\n",
    ") \n",
    "\n",
    " \n",
    "\n",
    "translation = response['choices'][0]['message']['content'] \n",
    "\n",
    " \n",
    "\n",
    "print(\"Chinese Translation using GPT-4:\",translation) \n",
    "\n"
   ]
  },
  {
   "cell_type": "code",
   "execution_count": 35,
   "id": "292ad6fe",
   "metadata": {},
   "outputs": [
    {
     "name": "stdout",
     "output_type": "stream",
     "text": [
      "Spanish Translation using GPT-4: OFERTA ESPECIAL\n",
      "\n",
      "Venta\n",
      "\n",
      "NUEVAS OFERTAS CADA HORA\n"
     ]
    }
   ],
   "source": [
    "model_engine = \"gpt-4\" \n",
    "\n",
    "message=[{\"role\": \"user\", \"content\": 'Translate these English words to Spanish'}, \n",
    "\n",
    "        {\"role\": \"assistant\", \"content\": f\"{extracted_text}\"} \n",
    "\n",
    "    ] \n",
    " \n",
    "response = openai.ChatCompletion.create( \n",
    "\n",
    "    model=model_engine, \n",
    "\n",
    "    messages = message, \n",
    "\n",
    "    max_tokens=1024, \n",
    "\n",
    "    n=1, \n",
    "\n",
    "    stop=None, \n",
    "\n",
    "    temperature=0.2, \n",
    "\n",
    ") \n",
    "\n",
    " \n",
    "\n",
    "translation = response['choices'][0]['message']['content'] \n",
    "\n",
    " \n",
    "\n",
    "print(\"Spanish Translation using GPT-4:\",translation) \n"
   ]
  },
  {
   "cell_type": "code",
   "execution_count": null,
   "id": "b6645c2a",
   "metadata": {},
   "outputs": [],
   "source": []
  }
 ],
 "metadata": {
  "kernelspec": {
   "display_name": "Python 3 (ipykernel)",
   "language": "python",
   "name": "python3"
  },
  "language_info": {
   "codemirror_mode": {
    "name": "ipython",
    "version": 3
   },
   "file_extension": ".py",
   "mimetype": "text/x-python",
   "name": "python",
   "nbconvert_exporter": "python",
   "pygments_lexer": "ipython3",
   "version": "3.10.9"
  }
 },
 "nbformat": 4,
 "nbformat_minor": 5
}
